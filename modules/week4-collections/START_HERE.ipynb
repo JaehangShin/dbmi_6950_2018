{
 "cells": [
  {
   "cell_type": "markdown",
   "metadata": {},
   "source": [
    "# Collections\n",
    "## Class Preparation: Mathematics of Sets\n",
    "* [Sets in Python](ClassPrep/SetsInPython.ipynb)\n",
    "    * [Sets and Authors](ClassPrep/Authors.ipynb)\n",
    "    * [Sets and Football](ClassPrep/Football.ipynb)\n",
    "    * [Sets and Travel Narrative](ClassPrep/ChangesInTravelNarratives.ipynb)\n",
    "* [Lists](ClassPrep/Lists.ipynb)\n",
    "* [Tuples](ClassPrep/Tuples.ipynb)\n",
    "* [Strings](ClassPrep/Strings.ipynb)\n",
    "* [Dictionaries](ClassPrep/Dictionaries.ipynb)"
   ]
  },
  {
   "cell_type": "markdown",
   "metadata": {},
   "source": [
    "## Problems with `git`\n",
    "\n",
    "When you open a notebook, that notebook will be recognized as being changed relative to when you opened it. Therefore, if I subsequently change that notebook, when you try to pull my changes you will get a **conflict**. Resolving conflicts in `git` is an important but ultimately very complex subject. I'm going to try to  minimize this occuring, but when it does the simplest thing for you to do is to just discard changes to your notebook.\n",
    "\n",
    "We can discard changes with the git **checkout** command.\n",
    "\n",
    "For example, if I want to discard all  changes in the current directory (and below?), my command would be\n",
    "\n",
    "```bash\n",
    "git checkout -- .\n",
    "```\n",
    "Note the `.` stands for the current directory: what we are discarding the changes for.\n",
    "\n",
    "As another example, if I want to discard changes to this file (`START_HERE.ipynb`), the command would be\n",
    "\n",
    "```bash\n",
    "git checkout -- START_HERE.ipynb\n",
    "```"
   ]
  },
  {
   "cell_type": "code",
   "execution_count": null,
   "metadata": {
    "collapsed": true
   },
   "outputs": [],
   "source": []
  }
 ],
 "metadata": {
  "anaconda-cloud": {},
  "kernelspec": {
   "display_name": "Python [default]",
   "language": "python",
   "name": "python3"
  },
  "language_info": {
   "codemirror_mode": {
    "name": "ipython",
    "version": 3
   },
   "file_extension": ".py",
   "mimetype": "text/x-python",
   "name": "python",
   "nbconvert_exporter": "python",
   "pygments_lexer": "ipython3",
   "version": "3.6.4"
  }
 },
 "nbformat": 4,
 "nbformat_minor": 2
}
