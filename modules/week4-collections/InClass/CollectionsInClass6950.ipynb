{
 "cells": [
  {
   "cell_type": "markdown",
   "metadata": {},
   "source": [
    "# Quiz\n",
    "* given **a = [1,2,3]** and **b = [4,5,6]**\n",
    "* Are these two statements equivalent?\n",
    "    * a.extend(b)\n",
    "    * a.append(b)"
   ]
  },
  {
   "cell_type": "code",
   "execution_count": null,
   "metadata": {},
   "outputs": [],
   "source": []
  },
  {
   "cell_type": "markdown",
   "metadata": {},
   "source": [
    "# Greek Myth for the Day\n",
    "\n",
    "ODYSSEUS    \n",
    ">                                         \"Let me assure you,\n",
    ">      among human beings most are changeable,    \n",
    ">      sometimes friendly, then sometimes bitter.\"   \n",
    ">        \n",
    ">AGAMEMNON    \n",
    ">    \n",
    ">      \"Are those the sort of men you'd recommend    \n",
    ">      that we accept as friends?\"    \n",
    ">    \n",
    ">ODYSSEUS    \n",
    ">  \n",
    ">                            \"Well, I wouldn't recommend\n",
    ">      we choose someone inflexible.\"   \n",
    ">      \n",
    "> (Sophocles, \"Ajax\")"
   ]
  },
  {
   "cell_type": "markdown",
   "metadata": {},
   "source": [
    "#### Would Odysseus choose a list or a tuple as a friend?"
   ]
  },
  {
   "cell_type": "markdown",
   "metadata": {},
   "source": [
    "## Data Collections: Good, Better, Best?"
   ]
  },
  {
   "cell_type": "code",
   "execution_count": null,
   "metadata": {},
   "outputs": [],
   "source": []
  },
  {
   "cell_type": "markdown",
   "metadata": {},
   "source": [
    "## Here are the results of a previous blood test of mine\n",
    "### With your groups, use strings, numbers, lists, tuples  to create a Python representation of this test\n",
    "\n",
    "##### Do not use dictionaries!\n",
    "\n",
    "|Component|Standard Range|Your Value|Flag|\n",
    "|---------|--------------|----------|----|\n",
    "|Glucose|\t70 - 115 mg/dL|\t89\t| |\n",
    "|BUN    |\t6 - 20 mg/dL  |26\t|H|\n",
    "|Creatinine|\t0.67 - 1.17 mg/dL|\t1.39|\tH|\n",
    "|Sodium|\t136 - 145 mmol/L|\t136\t| |\n",
    "|Potassium|\t3.5 - 5.1 mmol/L|\t4.5\t||\n",
    "|Chloride|\t98 - 107 mmol/L\t|101| |\t\n",
    "|Bicarbonate|\t22 - 29 mmol/L|\t25\t| |\n",
    "|Calcium|\t8.6 - 10.5 mg/dL|\t9.4\t| |\n",
    "\n",
    "|General Information|\n",
    "|-------------------|\n",
    "|Collected:|\n",
    "|03/01/2012  9:22 AM|\n",
    "|Resulted: |\n",
    "|03/01/2012  2:19 PM|"
   ]
  },
  {
   "cell_type": "code",
   "execution_count": null,
   "metadata": {},
   "outputs": [],
   "source": []
  },
  {
   "cell_type": "markdown",
   "metadata": {},
   "source": [
    "#### How would I access the numeric value of the Bicarbonate test?"
   ]
  },
  {
   "cell_type": "code",
   "execution_count": null,
   "metadata": {},
   "outputs": [],
   "source": []
  },
  {
   "cell_type": "markdown",
   "metadata": {},
   "source": [
    "#### How would I check whether a particular test was in the result?"
   ]
  },
  {
   "cell_type": "code",
   "execution_count": null,
   "metadata": {},
   "outputs": [],
   "source": []
  },
  {
   "cell_type": "code",
   "execution_count": null,
   "metadata": {},
   "outputs": [],
   "source": []
  },
  {
   "cell_type": "markdown",
   "metadata": {},
   "source": [
    "### Named tuples\n",
    "\n",
    "Python has a [named tuple](https://docs.python.org/3/library/collections.html#collections.namedtuple) that allows for a more user friendly way of accessing tuple content. How could you redesign this test result using named tuples?"
   ]
  },
  {
   "cell_type": "code",
   "execution_count": null,
   "metadata": {},
   "outputs": [],
   "source": []
  },
  {
   "cell_type": "markdown",
   "metadata": {},
   "source": [
    "#### Using `report1` and `report2` answer the following questions:\n",
    "\n",
    "### Problems\n",
    "\n",
    "1. How many characters are in each report?\n",
    "    1. How many characters are in each report not including whitespaces?\n",
    "    1. **Hint:** look up what we mean by \"whitespace\"\n",
    "1. How many words are in each report?\n",
    "1. What is the average length of each word?\n",
    "1. How many unique words are in the reports?"
   ]
  },
  {
   "cell_type": "code",
   "execution_count": null,
   "metadata": {},
   "outputs": [],
   "source": [
    "report1 = \"\"\"The specimens are received in formalin identified on the containers with the\n",
    "patient's name, with the initials BC.\n",
    "Part 1 is labeled as \"posterior neck\". The tissue is white, measuring 0.7 x\n",
    "0.4 x 0.1 cm with a 0.5 x 0.3 cm brown lesion. The tissue is inked, bisected\n",
    "and submitted in cassette labeled lA.\n",
    "Part 2 is labeled as \"right posterior thigh\". The tissue is white, measuring\n",
    "0.6 x 0.4 x 0.1 cm with a 0.3 x 0.2 cm brown lesion. The tissue is inked,\n",
    "bisected and submitted in cassette labeled 2A.\"\"\"\n",
    "\n",
    "report2 = \"\"\"The patient is a 37 year old white male with a history of a new 6 x 6 mm light\n",
    "brown macule on left chest, which was not present at last examination 6/04. Approximately 90% of this melanoma is in-situ; the rest is composed of\n",
    "invasive (dermal) component; however, there is a central area of regression\n",
    "identified, up to 0.6 mm deep, in the close proximity of the early invasive\n",
    "component.\"\"\""
   ]
  },
  {
   "cell_type": "code",
   "execution_count": null,
   "metadata": {},
   "outputs": [],
   "source": []
  },
  {
   "cell_type": "markdown",
   "metadata": {
    "nbgrader": {
     "checksum": "2c81e1b7b99fd882df1cea64a09484fc",
     "grade": false,
     "grade_id": "cell-b56cbbea3ac399b7",
     "locked": true,
     "schema_version": 1,
     "solution": false
    }
   },
   "source": [
    "## Testing Membership\n",
    "\n"
   ]
  },
  {
   "cell_type": "code",
   "execution_count": null,
   "metadata": {
    "nbgrader": {
     "checksum": "6c9a01be206d70daea2d5603e653df85",
     "grade": false,
     "grade_id": "cell-1881e38f5dfaa145",
     "locked": true,
     "schema_version": 1,
     "solution": false
    }
   },
   "outputs": [],
   "source": [
    "import numpy.random as ra\n",
    "import random\n",
    "import seaborn as sns"
   ]
  },
  {
   "cell_type": "markdown",
   "metadata": {},
   "source": [
    "* If I have a list how would I check whether a particular element was in that list? \n",
    "* On average how long many checks would I have to make?\n",
    "* What is my worse case number of checks?\n",
    "\n",
    "#### How could I use lists to test this?\n",
    "\n",
    "**Hint:**\n",
    "\n",
    "```Python \n",
    "testin = %timeit -o 2018 in data\n",
    "```"
   ]
  },
  {
   "cell_type": "code",
   "execution_count": null,
   "metadata": {},
   "outputs": [],
   "source": [
    "best = []\n",
    "worst = []\n",
    "average = []\n",
    "ns = (10,100,1000,10000, 25000, 50000, 100000, 250000, 500000, 1000000)\n",
    "\n",
    "    "
   ]
  },
  {
   "cell_type": "code",
   "execution_count": null,
   "metadata": {},
   "outputs": [],
   "source": [
    "sns.scatterplot(ns,???)"
   ]
  },
  {
   "cell_type": "markdown",
   "metadata": {},
   "source": [
    "#### What if we were using sets instead?\n"
   ]
  },
  {
   "cell_type": "code",
   "execution_count": null,
   "metadata": {},
   "outputs": [],
   "source": [
    "best = []\n",
    "worst = []\n",
    "average = []\n",
    "ns = (10,100,1000,10000, 25000, 50000, 100000, 250000, 500000, 1000000)\n"
   ]
  },
  {
   "cell_type": "code",
   "execution_count": null,
   "metadata": {},
   "outputs": [],
   "source": [
    "sns.scatterplot(ns,???)"
   ]
  },
  {
   "cell_type": "markdown",
   "metadata": {},
   "source": [
    "#### What are the implications of this?"
   ]
  },
  {
   "cell_type": "code",
   "execution_count": null,
   "metadata": {},
   "outputs": [],
   "source": []
  }
 ],
 "metadata": {
  "anaconda-cloud": {},
  "kernelspec": {
   "display_name": "Python [default]",
   "language": "python",
   "name": "python3"
  },
  "language_info": {
   "codemirror_mode": {
    "name": "ipython",
    "version": 3
   },
   "file_extension": ".py",
   "mimetype": "text/x-python",
   "name": "python",
   "nbconvert_exporter": "python",
   "pygments_lexer": "ipython3",
   "version": "3.6.4"
  }
 },
 "nbformat": 4,
 "nbformat_minor": 2
}
