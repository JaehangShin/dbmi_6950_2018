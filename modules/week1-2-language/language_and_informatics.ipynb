{
 "cells": [
  {
   "cell_type": "code",
   "execution_count": 1,
   "metadata": {},
   "outputs": [
    {
     "data": {
      "image/jpeg": "[encoded data removed]",
      "text/html": [
       "\n",
       "        <iframe\n",
       "            width=\"800\"\n",
       "            height=\"600\"\n",
       "            src=\"https://www.youtube.com/embed/itpK1hu_gPs\"\n",
       "            frameborder=\"0\"\n",
       "            allowfullscreen\n",
       "        ></iframe>\n",
       "        "
      ],
      "text/plain": [
       "<IPython.lib.display.YouTubeVideo at 0x7fea605c1438>"
      ]
     },
     "execution_count": 1,
     "metadata": {},
     "output_type": "execute_result"
    }
   ],
   "source": [
    "from IPython.display import YouTubeVideo\n",
    "YouTubeVideo(\"itpK1hu_gPs\", width=800, height=600)"
   ]
  },
  {
   "cell_type": "markdown",
   "metadata": {},
   "source": [
    "# Languages of Mathematics, Computing, and Biomedical Informatics\n",
    "\n",
    "![Musical Notation](https://upload.wikimedia.org/wikipedia/commons/9/9d/Bartok_-_Music_for_Strings,_Percussion_and_Celesta_interval_expansion.png)\n",
    "\n",
    "Every discipline creates a [sub-language](https://en.wikipedia.org/wiki/Sublanguage) consisting of symbols and rules for combining those symbols in order to (hopefully) create  an efficient and unambiguous means of communicating information.  "
   ]
  },
  {
   "cell_type": "markdown",
   "metadata": {},
   "source": [
    "## Language of Healthcare\n",
    "\n",
    "Healthcare is full of special words, abbreviations, and symbols that are used to communicate and record information. Biomedical Informatics even teaches a course that is primarily a course on \"The Language of Medicine\".  \n",
    "![Language of Medicine Book](https://goo.gl/2qyaA1)"
   ]
  },
  {
   "cell_type": "markdown",
   "metadata": {},
   "source": [
    "## Languages of Computing\n",
    "\n",
    "### Flow Charts\n",
    "\n",
    "Flow charts use [common symbols](https://en.wikipedia.org/wiki/Flowchart#Common_symbols) to denote common tasks (e.g. a diamond for a decision, an oval for start/stop, a parallelogram for an action). Flow charts are not limited to computing (see lamp debugging)\n",
    "\n",
    "![A Flow Chart](https://upload.wikimedia.org/wikipedia/commons/thumb/9/91/LampFlowchart.svg/750px-LampFlowchart.svg.png)\n",
    "\n",
    "#### [draw.io](http://draw.io)\n",
    "\n",
    "`draw.io` is a free web application for drawing flow charts and other figures. Here is there default example of a flow chart.\n",
    "\n",
    "![example flow chart](./draw.io.example.png)\n",
    "\n",
    "### [Operating System](https://en.wikipedia.org/wiki/Operating_system)\n",
    "\n",
    "Language used to interact with your computer. May be\n",
    "\n",
    "* Graphical (drag and drop, click, etc.)\n",
    "* Word-based (typing commands in a shell)\n",
    "\n",
    "### [Pseudocode](https://en.wikipedia.org/wiki/Pseudocode)\n",
    "\n",
    ">Pseudocode (rarely known as Program Design Language) is an informal high-level description of the operating principle of a computer program or other algorithm.\n",
    ">\n",
    ">It uses the structural conventions of a normal programming language, but is intended for human reading rather than machine reading. Pseudocode typically omits details that are essential for machine understanding of the algorithm, such as variable declarations, system-specific code and some subroutines. The programming language is augmented with natural language description details, where convenient, or with compact mathematical notation. The purpose of using pseudocode is that it is easier for people to understand than conventional programming language code, and that it is an efficient and environment-independent description of the key principles of an algorithm.\n",
    ">\n",
    ">No standard for pseudocode syntax exists, as a program in pseudocode is not an executable program.\n",
    ">\n",
    ">$\\cdots$\n",
    ">\n",
    ">A programmer who needs to implement a specific algorithm, especially an unfamiliar one, will often start with a pseudocode description, and then \"translate\" that description into the target programming language and modify it to interact correctly with the rest of the program. Programmers may also start a project by sketching out the code in pseudocode on paper before writing it in its actual language, as a top-down structuring approach, with a process of steps to be followed as a refinement. ([Wikipedia, \"Pseudocode\" accessed 22 August 2016](https://en.wikipedia.org/wiki/Pseudocode))\n",
    "\n",
    "### Example: Pseudocode for Protein Prediction\n",
    "\n",
    "Here is an example pseudocode for a method of predicting  protein structure from the paper\n",
    "\"A firefly-inspired method for protein structure prediction in lattice models.\" Maher B, Albrecht AA, Loomes M, Yang XS, Steinhöfel K - Biomolecules (2014)\n",
    "\n",
    "\n",
    "![Example Pseudocode](http://bit.ly/2Mx0I9d)\n",
    "\n",
    "### Example: Pseudocode for Graph Coloring\n",
    "\n",
    "Here is another example of pseudocode for [coloring a graph](https://en.wikipedia.org/wiki/Graph_coloring)\n",
    "\n",
    "![Another example of Pseudocode](https://upload.wikimedia.org/wikipedia/commons/1/14/Cole-Vishkin_Algorithm_Pseudo_Code.jpg)"
   ]
  },
  {
   "cell_type": "markdown",
   "metadata": {},
   "source": [
    "## Limitations of Language\n",
    "\n",
    "Natural language is full of limitations that impede understanding. Words (symbols) have multiple meanings (polyphony) and multiple words can have the same meaning (synonomy).\n",
    "\n",
    "* For synonomy in medicine think of how we commonly have both Latin and Greek derived words for the same concept. For example, kidney (renal, Latin; nephro, Greek).\n",
    "* For polyphony, think of the word \"set\" which in the Oxford English Dictionary (1986) had 430 [definitions](http://www.guinnessworldrecords.com/world-records/english-word-with-the-most-meanings/).\n",
    "\n",
    "#### Exercise\n",
    "\n",
    "How many different meanings of \"PE\" can you think of?\n",
    "\n",
    "In practice, how do we differentiate these meanings?\n",
    "\n",
    "### Polyphony in Programming Languages\n",
    "\n",
    "In order to keep programs concise and to make typing a program using a standard keyboard manageable, languages make of polyphony.\n",
    "\n",
    "* `+` has one meaning when bracketed by numbers, another meaning when bracketed with strings\n",
    "\n",
    "#### Context (and syntax) become very important for programming languages\n",
    "\n",
    "While a human could likely understand a sentence with poor syntax, a computer cannot."
   ]
  },
  {
   "cell_type": "markdown",
   "metadata": {},
   "source": [
    "### Programming Languages\n",
    "\n",
    "![Language Hierarchy](https://blog.malwarebytes.com/wp-content/uploads/2012/09/FlowDiagram2.png)"
   ]
  },
  {
   "cell_type": "code",
   "execution_count": null,
   "metadata": {},
   "outputs": [],
   "source": []
  }
 ],
 "metadata": {
  "anaconda-cloud": {},
  "kernelspec": {
   "display_name": "Python [default]",
   "language": "python",
   "name": "python3"
  },
  "language_info": {
   "codemirror_mode": {
    "name": "ipython",
    "version": 3
   },
   "file_extension": ".py",
   "mimetype": "text/x-python",
   "name": "python",
   "nbconvert_exporter": "python",
   "pygments_lexer": "ipython3",
   "version": "3.6.4"
  },
  "toc": {
   "base_numbering": 1,
   "nav_menu": {},
   "number_sections": true,
   "sideBar": true,
   "skip_h1_title": false,
   "title_cell": "Table of Contents",
   "title_sidebar": "Contents",
   "toc_cell": false,
   "toc_position": {},
   "toc_section_display": true,
   "toc_window_display": false
  }
 },
 "nbformat": 4,
 "nbformat_minor": 2
}
