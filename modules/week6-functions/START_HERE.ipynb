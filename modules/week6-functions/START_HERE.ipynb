{
 "cells": [
  {
   "cell_type": "markdown",
   "metadata": {},
   "source": [
    "# Week 4: Functions\n",
    "\n",
    "## Class Prep\n",
    "* [Functions in Python](ClassPrep/FunctionDefinitions.ipynb)\n",
    "* [Functions and Namespaces](ClassPrep/FunctionsAndNamespaces.ipynb)\n",
    "\n",
    "Here are some (I think) fun notebooks illustrating functions to draw fractals. Look over and run both notebooks.\n",
    "\n",
    "* [Gasket Fractal](Resources/SierpińskiGasket.ipynb)\n",
    "* [Fern Fractal](Resources/BarnsleyFern.ipynb)\n",
    "\n",
    "After running these notebooks, think about the following questions:\n",
    "\n",
    "* How would you describe the `choose_function` in the `BarnsleyFern\n",
    "` notebook compared to the similar functionality in the `SierpińskiGasket\n",
    "` notebook's `new_point` function?\n",
    "* Does the `Point` named tuple affect the readability (understandability) of the code?\n",
    "\n",
    "### Readings\n",
    "\n",
    "* *Introduction to Computation and Programming Using Python: With Application to Understanding Data* Chapter 4 \"FUNCTIONS, SCOPING, AND ABSTRACTION\"\n",
    "* *Think Python*, chapter 3 [\"Functions\"](http://greenteapress.com/thinkpython2/html/thinkpython2004.html)\n",
    "* *Think Python*, chapter 6 [\"Fruitful Functions\"](http://greenteapress.com/thinkpython2/html/thinkpython2007.html)\n",
    "\n",
    "\n"
   ]
  },
  {
   "cell_type": "code",
   "execution_count": null,
   "metadata": {
    "collapsed": true
   },
   "outputs": [],
   "source": []
  }
 ],
 "metadata": {
  "kernelspec": {
   "display_name": "Python [default]",
   "language": "python",
   "name": "python3"
  },
  "language_info": {
   "codemirror_mode": {
    "name": "ipython",
    "version": 3
   },
   "file_extension": ".py",
   "mimetype": "text/x-python",
   "name": "python",
   "nbconvert_exporter": "python",
   "pygments_lexer": "ipython3",
   "version": "3.6.4"
  }
 },
 "nbformat": 4,
 "nbformat_minor": 2
}
